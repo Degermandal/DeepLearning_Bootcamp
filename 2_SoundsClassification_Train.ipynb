{
  "cells": [
    {
      "cell_type": "markdown",
      "metadata": {
        "id": "MP5lR5Oui-5M"
      },
      "source": [
        "## Verisetinin İndirilmesi ve Dosyaların Çıkarılması"
      ]
    },
    {
      "cell_type": "code",
      "execution_count": 2,
      "metadata": {
        "colab": {
          "base_uri": "https://localhost:8080/"
        },
        "id": "mlAUxveeHCIZ",
        "outputId": "cd9e3e2f-1e56-40ae-9972-7801c16f53ce"
      },
      "outputs": [
        {
          "output_type": "stream",
          "name": "stdout",
          "text": [
            "Mounted at /gdrive\n",
            "/gdrive\n"
          ]
        }
      ],
      "source": [
        "from google.colab import drive\n",
        "drive.mount('/gdrive')\n",
        "%cd /gdrive"
      ]
    },
    {
      "cell_type": "code",
      "execution_count": 3,
      "metadata": {
        "colab": {
          "base_uri": "https://localhost:8080/"
        },
        "id": "LdB3euzLHL0v",
        "outputId": "c4dbd1ca-2b64-44ec-ae15-4b6d32d0b2ee"
      },
      "outputs": [
        {
          "output_type": "stream",
          "name": "stdout",
          "text": [
            "/gdrive/My Drive/DeepLearningBootcamp\n"
          ]
        }
      ],
      "source": [
        "%cd '/gdrive/My Drive/DeepLearningBootcamp'"
      ]
    },
    {
      "cell_type": "code",
      "execution_count": null,
      "metadata": {
        "colab": {
          "base_uri": "https://localhost:8080/"
        },
        "id": "2u47Smb5HLyC",
        "outputId": "adb89849-e3fb-48cc-c2be-ddd39b2a98a9"
      },
      "outputs": [
        {
          "name": "stdout",
          "output_type": "stream",
          "text": [
            "1-SoundsClassification_Preprocess.ipynb  X_train.pkl\n",
            "2-SoundsClassification_Train.ipynb\t X_val.pkl\n",
            "errors.txt\t\t\t\t y_test.pkl\n",
            "spectroGrams\t\t\t\t y_train.pkl\n",
            "spectrograms-20221001T190226Z-001.zip\t y_val.pkl\n",
            "X_test.pkl\n"
          ]
        }
      ],
      "source": [
        "!ls"
      ]
    },
    {
      "cell_type": "code",
      "execution_count": 5,
      "metadata": {
        "id": "X5C8jv-ojElc"
      },
      "outputs": [],
      "source": [
        "import pickle"
      ]
    },
    {
      "cell_type": "code",
      "execution_count": 6,
      "metadata": {
        "id": "7LRvBiLyjAsa"
      },
      "outputs": [],
      "source": [
        "# Kaydedilen dosyalar kullanabilmek icin load edilmistir.\n",
        "X_train = pickle.load(open('X_train.pkl', 'rb'))\n",
        "y_train = pickle.load(open('y_train.pkl', 'rb'))\n",
        "\n",
        "X_val = pickle.load(open('X_val.pkl', 'rb'))\n",
        "y_val = pickle.load(open('y_val.pkl', 'rb'))\n",
        "\n",
        "X_test = pickle.load(open('X_test.pkl', 'rb'))\n",
        "y_test = pickle.load(open('y_test.pkl', 'rb'))"
      ]
    },
    {
      "cell_type": "code",
      "execution_count": null,
      "metadata": {
        "colab": {
          "base_uri": "https://localhost:8080/"
        },
        "id": "cToE-HvhjhXq",
        "outputId": "8203b454-0894-46ed-8d2f-17ad41dde4fb"
      },
      "outputs": [
        {
          "data": {
            "text/plain": [
              "array([[[1.        , 0.        , 0.        , ..., 0.        ,\n",
              "         0.        , 0.        ],\n",
              "        [1.        , 0.        , 0.        , ..., 0.        ,\n",
              "         0.        , 0.        ],\n",
              "        [1.        , 0.        , 0.        , ..., 0.        ,\n",
              "         0.        , 0.        ],\n",
              "        ...,\n",
              "        [1.        , 0.23137255, 0.68627451, ..., 0.6745098 ,\n",
              "         0.6745098 , 0.6745098 ],\n",
              "        [1.        , 0.10588235, 0.10980392, ..., 0.10980392,\n",
              "         0.10980392, 0.10980392],\n",
              "        [1.        , 1.        , 1.        , ..., 1.        ,\n",
              "         1.        , 1.        ]],\n",
              "\n",
              "       [[1.        , 0.        , 0.        , ..., 0.        ,\n",
              "         0.        , 0.        ],\n",
              "        [1.        , 0.        , 0.        , ..., 0.        ,\n",
              "         0.        , 0.        ],\n",
              "        [1.        , 0.        , 0.        , ..., 0.        ,\n",
              "         0.        , 0.        ],\n",
              "        ...,\n",
              "        [1.        , 0.        , 0.        , ..., 0.        ,\n",
              "         0.        , 0.        ],\n",
              "        [1.        , 0.10588235, 0.10980392, ..., 0.10980392,\n",
              "         0.10980392, 0.10980392],\n",
              "        [1.        , 1.        , 1.        , ..., 1.        ,\n",
              "         1.        , 1.        ]],\n",
              "\n",
              "       [[1.        , 0.        , 0.        , ..., 0.        ,\n",
              "         0.        , 0.        ],\n",
              "        [1.        , 0.        , 0.        , ..., 0.        ,\n",
              "         0.        , 0.        ],\n",
              "        [1.        , 0.        , 0.        , ..., 0.        ,\n",
              "         0.        , 0.        ],\n",
              "        ...,\n",
              "        [1.        , 0.03529412, 0.15294118, ..., 0.1372549 ,\n",
              "         0.15294118, 0.14901961],\n",
              "        [1.        , 0.10588235, 0.10980392, ..., 0.10980392,\n",
              "         0.10980392, 0.10980392],\n",
              "        [1.        , 1.        , 1.        , ..., 1.        ,\n",
              "         1.        , 1.        ]],\n",
              "\n",
              "       ...,\n",
              "\n",
              "       [[1.        , 0.        , 0.        , ..., 0.        ,\n",
              "         0.        , 0.        ],\n",
              "        [1.        , 0.        , 0.        , ..., 0.        ,\n",
              "         0.        , 0.        ],\n",
              "        [1.        , 0.        , 0.        , ..., 0.        ,\n",
              "         0.        , 0.        ],\n",
              "        ...,\n",
              "        [1.        , 0.15686275, 0.42745098, ..., 0.49019608,\n",
              "         0.4627451 , 0.41960784],\n",
              "        [1.        , 0.10588235, 0.10980392, ..., 0.10980392,\n",
              "         0.10980392, 0.10980392],\n",
              "        [1.        , 1.        , 1.        , ..., 1.        ,\n",
              "         1.        , 1.        ]],\n",
              "\n",
              "       [[1.        , 0.        , 0.        , ..., 0.        ,\n",
              "         0.        , 0.        ],\n",
              "        [1.        , 0.        , 0.        , ..., 0.        ,\n",
              "         0.        , 0.        ],\n",
              "        [1.        , 0.        , 0.        , ..., 0.        ,\n",
              "         0.        , 0.        ],\n",
              "        ...,\n",
              "        [1.        , 0.0745098 , 0.11372549, ..., 0.        ,\n",
              "         0.        , 0.03137255],\n",
              "        [1.        , 0.10588235, 0.10980392, ..., 0.10980392,\n",
              "         0.10980392, 0.10980392],\n",
              "        [1.        , 1.        , 1.        , ..., 1.        ,\n",
              "         1.        , 1.        ]],\n",
              "\n",
              "       [[1.        , 0.        , 0.        , ..., 0.        ,\n",
              "         0.        , 0.        ],\n",
              "        [1.        , 0.        , 0.        , ..., 0.        ,\n",
              "         0.        , 0.        ],\n",
              "        [1.        , 0.        , 0.        , ..., 0.        ,\n",
              "         0.        , 0.        ],\n",
              "        ...,\n",
              "        [1.        , 0.        , 0.        , ..., 0.        ,\n",
              "         0.        , 0.        ],\n",
              "        [1.        , 0.10588235, 0.10980392, ..., 0.10980392,\n",
              "         0.10980392, 0.10980392],\n",
              "        [1.        , 1.        , 1.        , ..., 1.        ,\n",
              "         1.        , 1.        ]]])"
            ]
          },
          "execution_count": 5,
          "metadata": {},
          "output_type": "execute_result"
        }
      ],
      "source": [
        "X_test"
      ]
    },
    {
      "cell_type": "code",
      "execution_count": null,
      "metadata": {
        "colab": {
          "base_uri": "https://localhost:8080/"
        },
        "id": "59umO73wjjHl",
        "outputId": "927b4b8c-189f-447a-897a-fa6889d7490a"
      },
      "outputs": [
        {
          "data": {
            "text/plain": [
              "array([1, 3, 4, 7, 3, 8, 0, 1, 0, 5, 0, 7, 8, 8, 1, 3, 7, 8, 4, 7, 7, 3,\n",
              "       8, 0, 7, 0, 4, 7, 2, 0, 3, 9, 2, 2, 0, 5, 0, 2, 5, 4, 9, 7, 8, 2,\n",
              "       0, 9, 9, 4, 6, 0, 8, 4, 3, 4, 5, 7, 2, 8, 5, 9, 8, 2, 7, 7, 3, 8,\n",
              "       7, 7, 7, 8, 8, 2, 2, 2, 8, 8, 0, 5, 5, 3, 7, 9, 9, 5, 0, 8, 5, 7,\n",
              "       5, 2, 9, 2, 9, 7, 7, 8, 6, 4, 3, 5, 8, 9, 8, 6, 4, 3, 5, 6, 3, 7,\n",
              "       5, 5, 4, 9, 4, 6, 8, 2, 7, 7, 9, 9, 9, 7, 8, 3, 8, 7, 0, 4, 1, 2,\n",
              "       2, 0, 9, 2, 0, 8, 2, 5, 1, 2, 4, 3, 8, 3, 9, 8, 3, 8, 9, 7, 0, 6,\n",
              "       8, 1, 9, 5, 3, 0, 7, 4, 2, 0, 7, 1, 3, 9, 0, 5, 4, 2, 4, 5, 5, 3,\n",
              "       3, 0, 3, 7, 7, 2, 0, 6, 7, 7, 7, 2, 0, 3, 9, 9, 8, 9, 5, 4, 9, 3,\n",
              "       3, 3, 8, 4, 5, 0, 3, 4, 0, 9, 5, 9, 9, 9, 7, 5, 9, 5, 4, 5, 7, 7,\n",
              "       5, 7, 5, 5, 0, 7, 5, 4, 9, 2, 7, 0, 0, 2, 3, 0, 5, 9, 5, 1, 9, 5,\n",
              "       3, 3, 7, 0, 8, 3, 7, 1, 5, 5, 4, 3, 0, 7, 3, 0, 1, 5, 3, 8, 7, 2,\n",
              "       3, 0, 4, 1, 8, 1, 4, 9, 2, 0, 0, 3, 1, 4, 7, 7, 1, 9, 4, 7, 5, 9,\n",
              "       2, 5, 6, 3, 2, 4, 0, 5, 3, 3, 6, 3, 7, 0, 2, 2, 5, 1, 3, 0, 9, 9,\n",
              "       6, 8, 7, 9, 7, 9, 4, 9, 3, 0, 2, 5, 9, 5, 3, 8, 7, 4, 2, 3, 0, 2,\n",
              "       9, 8, 3, 9, 0, 5, 9, 8, 2, 7, 5, 7, 6, 1, 5, 4, 5, 8, 5, 1, 4, 4,\n",
              "       7, 0, 2, 0, 0, 3, 4, 8, 9, 9, 0, 1, 1, 4, 2, 6, 5, 9, 5, 4, 7, 0,\n",
              "       5, 8, 9, 0, 4, 2, 7, 0, 9, 2, 7, 3, 4, 5, 3, 2, 0, 5, 7, 7, 8, 0,\n",
              "       0, 0, 6, 3, 4, 8, 5, 4, 3, 3, 8, 9, 9, 8, 9, 7, 4, 0, 5, 5, 0, 9,\n",
              "       2, 3, 2, 0, 2, 5, 0, 9, 0, 2, 4, 3, 2, 9, 5, 1, 5, 0, 2, 0, 5, 7,\n",
              "       5, 5, 8, 9, 2, 7, 6, 6, 7, 9, 9, 0, 1, 2, 3, 6, 8, 3, 4, 0, 9, 4,\n",
              "       9, 0, 1, 4, 5, 3, 6, 1, 0, 7, 2, 8, 7, 2, 0, 2, 5, 0, 8, 5, 6, 4,\n",
              "       3, 8, 2, 2, 3, 7, 9, 9, 2, 7, 0, 7, 0, 4, 5, 0, 8, 3, 4, 5, 7, 8,\n",
              "       5, 4, 9, 9, 0, 1, 4, 0, 9, 0, 9, 4, 9, 3, 7, 2, 0, 0, 2, 7, 4, 1,\n",
              "       4, 4, 0, 5, 9, 7, 4, 2, 4, 0, 9, 2, 9, 5, 9, 4, 9, 6, 4, 2, 2, 8,\n",
              "       3, 0, 4, 4, 0, 2, 6, 3, 2, 4, 1, 0, 8, 9, 8, 1, 0, 1, 7, 4, 3, 3,\n",
              "       0, 4, 7, 6, 8, 0, 8, 4, 1, 4, 4, 0, 0, 1, 2, 6, 0, 0, 6, 5, 7, 4,\n",
              "       9, 9, 5, 0, 2, 2, 5, 8, 5, 0, 7, 0, 9, 2, 8, 7, 5, 2, 7, 0, 0, 0,\n",
              "       3, 2, 2, 4, 8, 9, 2, 2, 0, 1, 5, 8, 9, 8, 9, 0, 3, 4, 9, 2, 4, 2,\n",
              "       4, 8, 7, 6, 9, 9, 9, 1, 3, 5, 2, 7, 3, 3, 7, 8, 9, 0, 9, 9, 0, 1,\n",
              "       7, 6, 7, 6, 9, 7, 7, 5, 0, 3, 5, 6, 5, 3, 7, 1, 4, 5, 9, 9, 9, 5,\n",
              "       0, 8, 2, 7, 6, 5, 8, 7, 0, 2, 6, 3, 3, 0, 5, 5, 7, 7, 4, 2, 8, 2,\n",
              "       5, 3, 7, 8, 5, 9, 1, 3, 1, 4, 0, 0, 3, 4, 4, 5, 6, 1, 5, 0, 9, 8,\n",
              "       9, 4, 4, 8, 0, 9, 8, 2, 9, 6, 3, 5, 6, 4, 7, 7, 9, 5, 3, 8, 0, 7,\n",
              "       3, 8, 7, 8, 5, 0, 2, 8, 4, 3, 0, 0, 2, 5, 5, 2, 6, 6, 8, 3, 3, 9,\n",
              "       2, 7, 9, 4, 1, 4, 2, 9, 3, 4, 5, 9, 4, 5, 4, 4, 9, 0, 8, 8, 9, 2,\n",
              "       2, 9, 9, 2, 9, 8, 5, 7, 2, 1, 0, 3, 7, 9, 1, 1, 4, 4, 3, 7, 2, 4,\n",
              "       5, 3, 3, 4, 5, 0, 4, 1, 0, 5, 9, 9, 2, 0, 6, 3, 1, 3, 6, 9, 9, 3,\n",
              "       4, 0, 2, 5, 3, 9, 2, 6, 0, 8, 7, 9, 6, 5, 1, 9, 8, 1, 7, 5, 4, 5,\n",
              "       0, 7, 7, 3, 2, 7, 4, 8, 8, 5, 7, 4, 0, 8, 4])"
            ]
          },
          "execution_count": 7,
          "metadata": {},
          "output_type": "execute_result"
        }
      ],
      "source": [
        "y_test"
      ]
    },
    {
      "cell_type": "code",
      "execution_count": null,
      "metadata": {
        "colab": {
          "base_uri": "https://localhost:8080/"
        },
        "id": "Bipjam4BKzXR",
        "outputId": "f858c429-3a5a-4248-93ec-ab630d8cfb7e"
      },
      "outputs": [
        {
          "output_type": "execute_result",
          "data": {
            "text/plain": [
              "((6986, 128, 128), (6986,))"
            ]
          },
          "metadata": {},
          "execution_count": 5
        }
      ],
      "source": [
        "X_train.shape, y_train.shape"
      ]
    },
    {
      "cell_type": "markdown",
      "source": [
        "#### Label Sayisi"
      ],
      "metadata": {
        "id": "LRFo_ge3KgDf"
      }
    },
    {
      "cell_type": "code",
      "execution_count": 7,
      "metadata": {
        "id": "ccThVuH2nr1z"
      },
      "outputs": [],
      "source": [
        "import numpy as np"
      ]
    },
    {
      "cell_type": "code",
      "execution_count": 8,
      "metadata": {
        "colab": {
          "base_uri": "https://localhost:8080/"
        },
        "id": "ZA2jOmBAnnDF",
        "outputId": "39799788-3285-42e6-af12-bad8bef2f40d"
      },
      "outputs": [
        {
          "output_type": "execute_result",
          "data": {
            "text/plain": [
              "array([0, 1, 2, 3, 4, 5, 6, 7, 8, 9])"
            ]
          },
          "metadata": {},
          "execution_count": 8
        }
      ],
      "source": [
        "# CNN modeli kurarken kategori sayisina ihtiyacimiz var. Asagidaki islem bunun icin yapilmistir.\n",
        "labels, _ = np.unique(y_test, return_inverse=True)\n",
        "labels"
      ]
    },
    {
      "cell_type": "code",
      "execution_count": 9,
      "metadata": {
        "colab": {
          "base_uri": "https://localhost:8080/"
        },
        "id": "F1BZ4gO-nxYU",
        "outputId": "78eaebe6-d032-4e52-f965-d3f71e724a46"
      },
      "outputs": [
        {
          "output_type": "execute_result",
          "data": {
            "text/plain": [
              "10"
            ]
          },
          "metadata": {},
          "execution_count": 9
        }
      ],
      "source": [
        "num_of_labels = len(labels)\n",
        "num_of_labels"
      ]
    },
    {
      "cell_type": "markdown",
      "metadata": {
        "id": "YD8Qyi2Yi1sc"
      },
      "source": [
        "## Gerekli Kütüphanelerin Yüklenmesi"
      ]
    },
    {
      "cell_type": "code",
      "execution_count": 27,
      "metadata": {
        "id": "9mZ2ll4dLW0S"
      },
      "outputs": [],
      "source": [
        "import tensorflow as tf\n",
        "from keras.models import Sequential\n",
        "from keras.layers import Dense, Activation, Conv2D, MaxPooling2D, Flatten, Dropout, BatchNormalization\n",
        "import matplotlib.pyplot as plt\n",
        "import pandas as pd\n",
        "import numpy as np\n",
        "import warnings\n",
        "warnings.filterwarnings(\"ignore\")"
      ]
    },
    {
      "cell_type": "code",
      "execution_count": null,
      "metadata": {
        "colab": {
          "base_uri": "https://localhost:8080/"
        },
        "id": "FFcDt2d0Mpyc",
        "outputId": "915d0536-ad54-487a-dc5d-76deb29d96bf"
      },
      "outputs": [
        {
          "output_type": "execute_result",
          "data": {
            "text/plain": [
              "((6986,), (873,), (6986, 128, 128), (873, 128, 128))"
            ]
          },
          "metadata": {},
          "execution_count": 11
        }
      ],
      "source": [
        "y_train.shape, y_val.shape, X_train.shape, X_val.shape"
      ]
    },
    {
      "cell_type": "markdown",
      "source": [
        "-----------------------------------------------------"
      ],
      "metadata": {
        "id": "cIBQbiHjF4sB"
      }
    },
    {
      "cell_type": "markdown",
      "source": [
        "## Birinci model"
      ],
      "metadata": {
        "id": "Px_FkODZNAk6"
      }
    },
    {
      "cell_type": "code",
      "source": [
        "model = Sequential()\n",
        "\n",
        "model.add(Conv2D(input_shape = (128,128,1), filters = 8, kernel_size = (3,3)))\n",
        "model.add(BatchNormalization())\n",
        "model.add(Activation(\"relu\"))\n",
        "model.add(MaxPooling2D())\n",
        "\n",
        "model.add(Conv2D(filters = 32, kernel_size = (3,3)))\n",
        "model.add(BatchNormalization())\n",
        "model.add(Activation(\"relu\"))\n",
        "model.add(MaxPooling2D())\n",
        "\n",
        "model.add(Conv2D(filters = 64, kernel_size = (3,3)))\n",
        "model.add(BatchNormalization())\n",
        "model.add(Activation(\"relu\"))\n",
        "model.add(MaxPooling2D())\n",
        "\n",
        "model.add(Flatten())\n",
        "model.add(Dense(units = 256))\n",
        "model.add(Activation(\"relu\"))\n",
        "model.add(Dropout(0.5))\n",
        "model.add(Dense(units = num_of_labels))\n",
        "model.add(Activation(\"softmax\"))"
      ],
      "metadata": {
        "id": "Euhqi4E7F9GW"
      },
      "execution_count": null,
      "outputs": []
    },
    {
      "cell_type": "code",
      "source": [
        "model.compile(optimizer=tf.keras.optimizers.Adam(learning_rate= 0.0001),loss = tf.keras.losses.SparseCategoricalCrossentropy(from_logits=True),\n",
        "              metrics=['accuracy'])"
      ],
      "metadata": {
        "id": "xuT76fygdLHO"
      },
      "execution_count": null,
      "outputs": []
    },
    {
      "cell_type": "code",
      "source": [
        "# Train\n",
        "hist = model.fit(X_train,y_train, validation_data=(X_val,y_val), epochs= 25, batch_size= 16)"
      ],
      "metadata": {
        "colab": {
          "base_uri": "https://localhost:8080/"
        },
        "id": "gdGgoNctGBhI",
        "outputId": "d30f97f5-6883-403e-ff3b-620bf8448caf"
      },
      "execution_count": null,
      "outputs": [
        {
          "output_type": "stream",
          "name": "stdout",
          "text": [
            "Epoch 1/25\n",
            "437/437 [==============================] - 74s 168ms/step - loss: 1.7175 - accuracy: 0.4024 - val_loss: 1.8148 - val_accuracy: 0.3047\n",
            "Epoch 2/25\n",
            "437/437 [==============================] - 72s 165ms/step - loss: 1.2773 - accuracy: 0.5598 - val_loss: 1.0237 - val_accuracy: 0.6667\n",
            "Epoch 3/25\n",
            "437/437 [==============================] - 71s 163ms/step - loss: 1.0311 - accuracy: 0.6424 - val_loss: 0.8699 - val_accuracy: 0.7171\n",
            "Epoch 4/25\n",
            "437/437 [==============================] - 72s 166ms/step - loss: 0.8911 - accuracy: 0.6944 - val_loss: 0.7320 - val_accuracy: 0.7583\n",
            "Epoch 5/25\n",
            "437/437 [==============================] - 74s 169ms/step - loss: 0.7843 - accuracy: 0.7315 - val_loss: 0.7663 - val_accuracy: 0.7423\n",
            "Epoch 6/25\n",
            "437/437 [==============================] - 74s 170ms/step - loss: 0.6929 - accuracy: 0.7667 - val_loss: 0.6118 - val_accuracy: 0.7995\n",
            "Epoch 7/25\n",
            "437/437 [==============================] - 74s 169ms/step - loss: 0.6354 - accuracy: 0.7839 - val_loss: 0.6102 - val_accuracy: 0.7961\n",
            "Epoch 8/25\n",
            "437/437 [==============================] - 74s 170ms/step - loss: 0.5496 - accuracy: 0.8135 - val_loss: 0.5561 - val_accuracy: 0.8236\n",
            "Epoch 9/25\n",
            "437/437 [==============================] - 73s 167ms/step - loss: 0.4894 - accuracy: 0.8322 - val_loss: 0.5461 - val_accuracy: 0.8202\n",
            "Epoch 10/25\n",
            "437/437 [==============================] - 76s 173ms/step - loss: 0.4449 - accuracy: 0.8487 - val_loss: 0.5556 - val_accuracy: 0.8293\n",
            "Epoch 11/25\n",
            "437/437 [==============================] - 74s 169ms/step - loss: 0.4003 - accuracy: 0.8647 - val_loss: 0.4618 - val_accuracy: 0.8580\n",
            "Epoch 12/25\n",
            "437/437 [==============================] - 75s 171ms/step - loss: 0.3492 - accuracy: 0.8829 - val_loss: 0.4471 - val_accuracy: 0.8568\n",
            "Epoch 13/25\n",
            "437/437 [==============================] - 77s 175ms/step - loss: 0.3373 - accuracy: 0.8828 - val_loss: 0.4617 - val_accuracy: 0.8568\n",
            "Epoch 14/25\n",
            "437/437 [==============================] - 75s 171ms/step - loss: 0.3084 - accuracy: 0.8967 - val_loss: 0.4546 - val_accuracy: 0.8465\n",
            "Epoch 15/25\n",
            "437/437 [==============================] - 77s 177ms/step - loss: 0.2828 - accuracy: 0.9032 - val_loss: 0.4898 - val_accuracy: 0.8511\n",
            "Epoch 16/25\n",
            "437/437 [==============================] - 75s 171ms/step - loss: 0.2488 - accuracy: 0.9163 - val_loss: 0.4361 - val_accuracy: 0.8614\n",
            "Epoch 17/25\n",
            "437/437 [==============================] - 73s 168ms/step - loss: 0.2356 - accuracy: 0.9226 - val_loss: 0.4814 - val_accuracy: 0.8534\n",
            "Epoch 18/25\n",
            "437/437 [==============================] - 75s 172ms/step - loss: 0.2192 - accuracy: 0.9230 - val_loss: 0.4713 - val_accuracy: 0.8499\n",
            "Epoch 19/25\n",
            "437/437 [==============================] - 75s 171ms/step - loss: 0.1961 - accuracy: 0.9332 - val_loss: 0.4157 - val_accuracy: 0.8740\n",
            "Epoch 20/25\n",
            "437/437 [==============================] - 74s 170ms/step - loss: 0.1864 - accuracy: 0.9377 - val_loss: 0.4500 - val_accuracy: 0.8751\n",
            "Epoch 21/25\n",
            "437/437 [==============================] - 74s 170ms/step - loss: 0.1739 - accuracy: 0.9400 - val_loss: 0.4378 - val_accuracy: 0.8763\n",
            "Epoch 22/25\n",
            "437/437 [==============================] - 74s 169ms/step - loss: 0.1650 - accuracy: 0.9427 - val_loss: 0.4844 - val_accuracy: 0.8706\n",
            "Epoch 23/25\n",
            "437/437 [==============================] - 74s 170ms/step - loss: 0.1493 - accuracy: 0.9490 - val_loss: 0.4727 - val_accuracy: 0.8625\n",
            "Epoch 24/25\n",
            "437/437 [==============================] - 75s 172ms/step - loss: 0.1419 - accuracy: 0.9535 - val_loss: 0.4034 - val_accuracy: 0.8751\n",
            "Epoch 25/25\n",
            "437/437 [==============================] - 75s 171ms/step - loss: 0.1525 - accuracy: 0.9463 - val_loss: 0.4039 - val_accuracy: 0.8889\n"
          ]
        }
      ]
    },
    {
      "cell_type": "code",
      "source": [
        "model.evaluate(X_test, y_test)"
      ],
      "metadata": {
        "colab": {
          "base_uri": "https://localhost:8080/"
        },
        "id": "pSubehlNmHYP",
        "outputId": "e1d368fe-21fd-46ca-ac4e-162a085653cb"
      },
      "execution_count": null,
      "outputs": [
        {
          "output_type": "stream",
          "name": "stdout",
          "text": [
            "28/28 [==============================] - 3s 92ms/step - loss: 0.3527 - accuracy: 0.8935\n"
          ]
        },
        {
          "output_type": "execute_result",
          "data": {
            "text/plain": [
              "[0.35266703367233276, 0.8934707641601562]"
            ]
          },
          "metadata": {},
          "execution_count": 41
        }
      ]
    },
    {
      "cell_type": "code",
      "source": [
        "import matplotlib.pyplot as plt\n",
        "plt.plot(hist.history[\"loss\"], label=\"Train\")\n",
        "plt.plot(hist.history[\"val_loss\"], label = \"Validation\")\n",
        "plt.xlabel(\"Epoch\")\n",
        "plt.ylabel(\"Loss\")\n",
        "plt.legend()\n",
        "plt.show()"
      ],
      "metadata": {
        "colab": {
          "base_uri": "https://localhost:8080/",
          "height": 279
        },
        "id": "M1T5YRGQmHUu",
        "outputId": "c46474e9-fbe7-467e-8b5b-bd9a742354d9"
      },
      "execution_count": null,
      "outputs": [
        {
          "output_type": "display_data",
          "data": {
            "text/plain": [
              "<Figure size 432x288 with 1 Axes>"
            ],
            "image/png": "[encoded data removed]"
          },
          "metadata": {
            "needs_background": "light"
          }
        }
      ]
    },
    {
      "cell_type": "code",
      "source": [
        "plt.plot(hist.history[\"accuracy\"], label=\"Train\")\n",
        "plt.plot(hist.history[\"val_accuracy\"], label = \"Validation\")\n",
        "plt.xlabel(\"Epoch\")\n",
        "plt.ylabel(\"Accuracy\")\n",
        "plt.legend()\n",
        "plt.show()"
      ],
      "metadata": {
        "colab": {
          "base_uri": "https://localhost:8080/",
          "height": 279
        },
        "id": "oTcURTUVmHRu",
        "outputId": "96a45f6c-7fef-4d7e-ccb1-219c7eb696d4"
      },
      "execution_count": null,
      "outputs": [
        {
          "output_type": "display_data",
          "data": {
            "text/plain": [
              "<Figure size 432x288 with 1 Axes>"
            ],
            "image/png": "[encoded data removed]"
          },
          "metadata": {
            "needs_background": "light"
          }
        }
      ]
    },
    {
      "cell_type": "code",
      "source": [
        "model.save(\"trained_model_0.h5\")"
      ],
      "metadata": {
        "id": "KX-FBYHTmHNg"
      },
      "execution_count": null,
      "outputs": []
    },
    {
      "cell_type": "markdown",
      "source": [
        "-----------------------------------------------------"
      ],
      "metadata": {
        "id": "tbpn_CHmF76r"
      }
    },
    {
      "cell_type": "markdown",
      "source": [
        "## Ikinci Model"
      ],
      "metadata": {
        "id": "UvMz5PGdPB7l"
      }
    },
    {
      "cell_type": "markdown",
      "source": [
        "Yukaridaki modelden farkli olarak CNNdeki filtreler ile oynanmistir.\n",
        "\n",
        "Dropout kisminda 0.2 olarak degistirilmistir.\n",
        "\n",
        "'learning_rate= 0.001' yani daha buyuk bir sayi verilmistir.\n",
        "\n",
        "Batch size de 32ye yukseltilmistir."
      ],
      "metadata": {
        "id": "Y3BOQUyNPOUd"
      }
    },
    {
      "cell_type": "code",
      "execution_count": null,
      "metadata": {
        "id": "sV_Gj8plLRWe"
      },
      "outputs": [],
      "source": [
        "model = Sequential()\n",
        "\n",
        "model.add(Conv2D(input_shape = (128,128,1), filters = 16, kernel_size = (3,3)))\n",
        "model.add(BatchNormalization())\n",
        "model.add(Activation(\"relu\"))\n",
        "model.add(MaxPooling2D())\n",
        "\n",
        "model.add(Conv2D(filters = 64, kernel_size = (3,3)))\n",
        "model.add(BatchNormalization())\n",
        "model.add(Activation(\"relu\"))\n",
        "model.add(MaxPooling2D())\n",
        "\n",
        "model.add(Conv2D(filters = 128, kernel_size = (3,3)))\n",
        "model.add(BatchNormalization())\n",
        "model.add(Activation(\"relu\"))\n",
        "model.add(MaxPooling2D())\n",
        "\n",
        "model.add(Flatten())\n",
        "model.add(Dense(units = 256))\n",
        "model.add(Activation(\"relu\"))\n",
        "model.add(Dropout(0.2))\n",
        "model.add(Dense(units = num_of_labels))\n",
        "model.add(Activation(\"softmax\"))"
      ]
    },
    {
      "cell_type": "code",
      "execution_count": null,
      "metadata": {
        "id": "AE_l0SDixc8y"
      },
      "outputs": [],
      "source": [
        "model.compile(optimizer=tf.keras.optimizers.Adam(learning_rate= 0.001),loss = tf.keras.losses.SparseCategoricalCrossentropy(from_logits=True),\n",
        "              metrics=['accuracy'])"
      ]
    },
    {
      "cell_type": "code",
      "execution_count": null,
      "metadata": {
        "colab": {
          "background_save": true,
          "base_uri": "https://localhost:8080/"
        },
        "id": "7NkBOSRgLRNf",
        "outputId": "d93b52f9-d891-4293-f1b0-601b0b56cb64"
      },
      "outputs": [
        {
          "name": "stdout",
          "output_type": "stream",
          "text": [
            "Epoch 1/25\n",
            "219/219 [==============================] - 150s 680ms/step - loss: 2.7298 - accuracy: 0.3971 - val_loss: 3.6524 - val_accuracy: 0.1249\n",
            "Epoch 2/25\n",
            "219/219 [==============================] - 148s 676ms/step - loss: 1.3586 - accuracy: 0.5139 - val_loss: 2.4014 - val_accuracy: 0.2864\n",
            "Epoch 3/25\n",
            "219/219 [==============================] - 157s 716ms/step - loss: 1.1631 - accuracy: 0.5853 - val_loss: 1.2630 - val_accuracy: 0.5808\n",
            "Epoch 4/25\n",
            "219/219 [==============================] - 148s 677ms/step - loss: 1.0092 - accuracy: 0.6427 - val_loss: 0.9383 - val_accuracy: 0.6976\n",
            "Epoch 5/25\n",
            "219/219 [==============================] - 148s 674ms/step - loss: 0.8824 - accuracy: 0.6828 - val_loss: 0.8998 - val_accuracy: 0.6942\n",
            "Epoch 6/25\n",
            "219/219 [==============================] - 147s 673ms/step - loss: 0.7972 - accuracy: 0.7170 - val_loss: 0.7394 - val_accuracy: 0.7629\n",
            "Epoch 7/25\n",
            "219/219 [==============================] - 146s 667ms/step - loss: 0.7137 - accuracy: 0.7491 - val_loss: 0.8182 - val_accuracy: 0.7182\n",
            "Epoch 8/25\n",
            "219/219 [==============================] - 147s 670ms/step - loss: 0.6211 - accuracy: 0.7787 - val_loss: 1.0310 - val_accuracy: 0.6919\n",
            "Epoch 9/25\n",
            "219/219 [==============================] - 147s 670ms/step - loss: 0.5659 - accuracy: 0.7930 - val_loss: 0.6121 - val_accuracy: 0.8030\n",
            "Epoch 10/25\n",
            "219/219 [==============================] - 147s 671ms/step - loss: 0.5321 - accuracy: 0.8099 - val_loss: 0.7709 - val_accuracy: 0.7537\n",
            "Epoch 11/25\n",
            "219/219 [==============================] - 147s 670ms/step - loss: 0.5030 - accuracy: 0.8234 - val_loss: 0.5488 - val_accuracy: 0.8442\n",
            "Epoch 12/25\n",
            "219/219 [==============================] - 147s 669ms/step - loss: 0.4431 - accuracy: 0.8414 - val_loss: 0.5725 - val_accuracy: 0.8328\n",
            "Epoch 13/25\n",
            "219/219 [==============================] - 147s 670ms/step - loss: 0.3848 - accuracy: 0.8627 - val_loss: 0.7254 - val_accuracy: 0.7938\n",
            "Epoch 14/25\n",
            "219/219 [==============================] - 146s 668ms/step - loss: 0.3567 - accuracy: 0.8726 - val_loss: 0.9741 - val_accuracy: 0.7411\n",
            "Epoch 15/25\n",
            "219/219 [==============================] - 146s 667ms/step - loss: 0.3251 - accuracy: 0.8812 - val_loss: 0.5718 - val_accuracy: 0.8396\n",
            "Epoch 16/25\n",
            "219/219 [==============================] - 145s 664ms/step - loss: 0.3253 - accuracy: 0.8835 - val_loss: 0.5604 - val_accuracy: 0.8431\n",
            "Epoch 17/25\n",
            "219/219 [==============================] - 147s 670ms/step - loss: 0.2820 - accuracy: 0.8997 - val_loss: 0.5882 - val_accuracy: 0.8236\n",
            "Epoch 18/25\n",
            "219/219 [==============================] - 147s 671ms/step - loss: 0.2476 - accuracy: 0.9098 - val_loss: 0.4400 - val_accuracy: 0.8877\n",
            "Epoch 19/25\n",
            "219/219 [==============================] - 148s 675ms/step - loss: 0.2577 - accuracy: 0.9071 - val_loss: 0.9910 - val_accuracy: 0.7778\n",
            "Epoch 20/25\n",
            "219/219 [==============================] - 163s 743ms/step - loss: 0.2327 - accuracy: 0.9170 - val_loss: 0.6949 - val_accuracy: 0.8121\n",
            "Epoch 21/25\n",
            "219/219 [==============================] - 149s 680ms/step - loss: 0.2125 - accuracy: 0.9270 - val_loss: 0.5968 - val_accuracy: 0.8408\n",
            "Epoch 22/25\n",
            "219/219 [==============================] - 147s 670ms/step - loss: 0.1972 - accuracy: 0.9300 - val_loss: 0.5652 - val_accuracy: 0.8832\n",
            "Epoch 23/25\n",
            "219/219 [==============================] - 147s 670ms/step - loss: 0.2018 - accuracy: 0.9271 - val_loss: 0.5102 - val_accuracy: 0.8717\n",
            "Epoch 24/25\n",
            "219/219 [==============================] - 149s 682ms/step - loss: 0.1606 - accuracy: 0.9426 - val_loss: 0.5108 - val_accuracy: 0.8855\n",
            "Epoch 25/25\n",
            "219/219 [==============================] - 148s 676ms/step - loss: 0.1771 - accuracy: 0.9343 - val_loss: 0.5899 - val_accuracy: 0.8694\n"
          ]
        }
      ],
      "source": [
        "# Train\n",
        "hist = model.fit(X_train,y_train, validation_data=(X_val,y_val), epochs= 25, batch_size= 32)"
      ]
    },
    {
      "cell_type": "code",
      "execution_count": null,
      "metadata": {
        "id": "_yyFL2yILRD1",
        "colab": {
          "base_uri": "https://localhost:8080/"
        },
        "outputId": "6f71d468-c148-4c73-9d22-f881d53441df"
      },
      "outputs": [
        {
          "output_type": "stream",
          "name": "stdout",
          "text": [
            "28/28 [==============================] - 5s 182ms/step - loss: 0.5211 - accuracy: 0.8889\n"
          ]
        },
        {
          "output_type": "execute_result",
          "data": {
            "text/plain": [
              "[0.5210739970207214, 0.8888888955116272]"
            ]
          },
          "metadata": {},
          "execution_count": 30
        }
      ],
      "source": [
        "model.evaluate(X_test, y_test)"
      ]
    },
    {
      "cell_type": "code",
      "execution_count": null,
      "metadata": {
        "id": "uUkHSKhJ9eQW",
        "colab": {
          "base_uri": "https://localhost:8080/",
          "height": 279
        },
        "outputId": "c819a775-0d36-4823-ecca-5a68837c0cdb"
      },
      "outputs": [
        {
          "output_type": "display_data",
          "data": {
            "text/plain": [
              "<Figure size 432x288 with 1 Axes>"
            ],
            "image/png": "[encoded data removed]"
          },
          "metadata": {
            "needs_background": "light"
          }
        }
      ],
      "source": [
        "import matplotlib.pyplot as plt\n",
        "plt.plot(hist.history[\"loss\"], label=\"Train\")\n",
        "plt.plot(hist.history[\"val_loss\"], label = \"Validation\")\n",
        "plt.xlabel(\"Epoch\")\n",
        "plt.ylabel(\"Loss\")\n",
        "plt.legend()\n",
        "plt.show()"
      ]
    },
    {
      "cell_type": "code",
      "execution_count": null,
      "metadata": {
        "id": "A0ogE9eE9eLs",
        "colab": {
          "base_uri": "https://localhost:8080/",
          "height": 279
        },
        "outputId": "9ba00494-fe93-4323-9b82-8d9633795552"
      },
      "outputs": [
        {
          "output_type": "display_data",
          "data": {
            "text/plain": [
              "<Figure size 432x288 with 1 Axes>"
            ],
            "image/png": "[encoded data removed]"
          },
          "metadata": {
            "needs_background": "light"
          }
        }
      ],
      "source": [
        "plt.plot(hist.history[\"accuracy\"], label=\"Train\")\n",
        "plt.plot(hist.history[\"val_accuracy\"], label = \"Validation\")\n",
        "plt.xlabel(\"Epoch\")\n",
        "plt.ylabel(\"Accuracy\")\n",
        "plt.legend()\n",
        "plt.show()"
      ]
    },
    {
      "cell_type": "code",
      "execution_count": null,
      "metadata": {
        "id": "nDmuyhmz9eH-"
      },
      "outputs": [],
      "source": [
        "model.save(\"trained_model_1.h5\")"
      ]
    },
    {
      "cell_type": "markdown",
      "metadata": {
        "id": "KjPxnzyg0EEO"
      },
      "source": [
        "------------------------------------------------------------------------------"
      ]
    },
    {
      "cell_type": "markdown",
      "source": [
        "## Ucuncu Model"
      ],
      "metadata": {
        "id": "Rv15H9IQP7VX"
      }
    },
    {
      "cell_type": "markdown",
      "source": [
        "Burada sadece epoch sayisi degistirilmistir."
      ],
      "metadata": {
        "id": "Pwx-j9eqQRVi"
      }
    },
    {
      "cell_type": "code",
      "source": [
        "model = Sequential()\n",
        "\n",
        "model.add(Conv2D(input_shape = (128, 128,1), filters = 16, kernel_size = (3,3)))\n",
        "model.add(BatchNormalization())\n",
        "model.add(Activation(\"relu\"))\n",
        "model.add(MaxPooling2D())\n",
        "\n",
        "model.add(Conv2D(filters = 64, kernel_size = (3,3)))\n",
        "model.add(BatchNormalization())\n",
        "model.add(Activation(\"relu\"))\n",
        "model.add(MaxPooling2D())\n",
        "\n",
        "model.add(Conv2D(filters = 128, kernel_size = (3,3)))\n",
        "model.add(BatchNormalization())\n",
        "model.add(Activation(\"relu\"))\n",
        "model.add(MaxPooling2D())\n",
        "\n",
        "model.add(Flatten())\n",
        "model.add(Dense(units = 256))\n",
        "model.add(Activation(\"relu\"))\n",
        "model.add(Dropout(0.2))\n",
        "model.add(Dense(units = num_of_labels))\n",
        "model.add(Activation(\"softmax\"))"
      ],
      "metadata": {
        "id": "CzqB2Sh-3Om4"
      },
      "execution_count": null,
      "outputs": []
    },
    {
      "cell_type": "code",
      "source": [
        "model.compile(optimizer=tf.keras.optimizers.Adam(learning_rate= 0.001),loss = tf.keras.losses.SparseCategoricalCrossentropy(from_logits=True),\n",
        "              metrics=['accuracy'])"
      ],
      "metadata": {
        "id": "Xs80WHrO3OZr"
      },
      "execution_count": null,
      "outputs": []
    },
    {
      "cell_type": "code",
      "source": [
        "# Train\n",
        "hist = model.fit(X_train,y_train, validation_data=(X_val,y_val), epochs= 50, batch_size= 32)"
      ],
      "metadata": {
        "colab": {
          "base_uri": "https://localhost:8080/"
        },
        "id": "kDORfhvN3OWX",
        "outputId": "41e4ae6c-a955-4ed7-b3bd-c6fdd2292c0c"
      },
      "execution_count": null,
      "outputs": [
        {
          "output_type": "stream",
          "name": "stdout",
          "text": [
            "Epoch 1/50\n",
            "219/219 [==============================] - 144s 647ms/step - loss: 3.3838 - accuracy: 0.4092 - val_loss: 5.0029 - val_accuracy: 0.0332\n",
            "Epoch 2/50\n",
            "219/219 [==============================] - 138s 628ms/step - loss: 1.2782 - accuracy: 0.5601 - val_loss: 4.5840 - val_accuracy: 0.1145\n",
            "Epoch 3/50\n",
            "219/219 [==============================] - 138s 629ms/step - loss: 1.0358 - accuracy: 0.6411 - val_loss: 2.1399 - val_accuracy: 0.4536\n",
            "Epoch 4/50\n",
            "219/219 [==============================] - 137s 628ms/step - loss: 0.9371 - accuracy: 0.6721 - val_loss: 1.6321 - val_accuracy: 0.5521\n",
            "Epoch 5/50\n",
            "219/219 [==============================] - 136s 623ms/step - loss: 0.8194 - accuracy: 0.7183 - val_loss: 0.9610 - val_accuracy: 0.6919\n",
            "Epoch 6/50\n",
            "219/219 [==============================] - 136s 622ms/step - loss: 0.7100 - accuracy: 0.7521 - val_loss: 1.6953 - val_accuracy: 0.5796\n",
            "Epoch 7/50\n",
            "219/219 [==============================] - 138s 631ms/step - loss: 0.6267 - accuracy: 0.7801 - val_loss: 0.6882 - val_accuracy: 0.7732\n",
            "Epoch 8/50\n",
            "219/219 [==============================] - 137s 625ms/step - loss: 0.5310 - accuracy: 0.8146 - val_loss: 0.8817 - val_accuracy: 0.7377\n",
            "Epoch 9/50\n",
            "219/219 [==============================] - 137s 627ms/step - loss: 0.4834 - accuracy: 0.8279 - val_loss: 0.5513 - val_accuracy: 0.8373\n",
            "Epoch 10/50\n",
            "219/219 [==============================] - 137s 625ms/step - loss: 0.4388 - accuracy: 0.8457 - val_loss: 0.8994 - val_accuracy: 0.7342\n",
            "Epoch 11/50\n",
            "219/219 [==============================] - 137s 626ms/step - loss: 0.4100 - accuracy: 0.8593 - val_loss: 1.3062 - val_accuracy: 0.6953\n",
            "Epoch 12/50\n",
            "219/219 [==============================] - 137s 625ms/step - loss: 0.3718 - accuracy: 0.8637 - val_loss: 0.5784 - val_accuracy: 0.8442\n",
            "Epoch 13/50\n",
            "219/219 [==============================] - 137s 624ms/step - loss: 0.3328 - accuracy: 0.8839 - val_loss: 0.5182 - val_accuracy: 0.8477\n",
            "Epoch 14/50\n",
            "219/219 [==============================] - 135s 616ms/step - loss: 0.3077 - accuracy: 0.8929 - val_loss: 0.6434 - val_accuracy: 0.8293\n",
            "Epoch 15/50\n",
            "219/219 [==============================] - 137s 624ms/step - loss: 0.2838 - accuracy: 0.9004 - val_loss: 0.5937 - val_accuracy: 0.8408\n",
            "Epoch 16/50\n",
            "219/219 [==============================] - 138s 629ms/step - loss: 0.2405 - accuracy: 0.9157 - val_loss: 0.6572 - val_accuracy: 0.8144\n",
            "Epoch 17/50\n",
            "219/219 [==============================] - 137s 626ms/step - loss: 0.2403 - accuracy: 0.9165 - val_loss: 0.6764 - val_accuracy: 0.8225\n",
            "Epoch 18/50\n",
            "219/219 [==============================] - 136s 622ms/step - loss: 0.2133 - accuracy: 0.9280 - val_loss: 0.5143 - val_accuracy: 0.8431\n",
            "Epoch 19/50\n",
            "219/219 [==============================] - 136s 621ms/step - loss: 0.1863 - accuracy: 0.9324 - val_loss: 0.5109 - val_accuracy: 0.8683\n",
            "Epoch 20/50\n",
            "219/219 [==============================] - 135s 617ms/step - loss: 0.2104 - accuracy: 0.9276 - val_loss: 0.6648 - val_accuracy: 0.8465\n",
            "Epoch 21/50\n",
            "219/219 [==============================] - 136s 620ms/step - loss: 0.1882 - accuracy: 0.9334 - val_loss: 0.3905 - val_accuracy: 0.8843\n",
            "Epoch 22/50\n",
            "219/219 [==============================] - 136s 620ms/step - loss: 0.1806 - accuracy: 0.9354 - val_loss: 0.6863 - val_accuracy: 0.8385\n",
            "Epoch 23/50\n",
            "219/219 [==============================] - 137s 626ms/step - loss: 0.1479 - accuracy: 0.9503 - val_loss: 0.8248 - val_accuracy: 0.8099\n",
            "Epoch 24/50\n",
            "219/219 [==============================] - 138s 628ms/step - loss: 0.1419 - accuracy: 0.9508 - val_loss: 0.5870 - val_accuracy: 0.8625\n",
            "Epoch 25/50\n",
            "219/219 [==============================] - 137s 625ms/step - loss: 0.1424 - accuracy: 0.9522 - val_loss: 0.4998 - val_accuracy: 0.8751\n",
            "Epoch 26/50\n",
            "219/219 [==============================] - 137s 625ms/step - loss: 0.1411 - accuracy: 0.9519 - val_loss: 0.5139 - val_accuracy: 0.8855\n",
            "Epoch 27/50\n",
            "219/219 [==============================] - 136s 622ms/step - loss: 0.1244 - accuracy: 0.9552 - val_loss: 0.6091 - val_accuracy: 0.8591\n",
            "Epoch 28/50\n",
            "219/219 [==============================] - 137s 624ms/step - loss: 0.1031 - accuracy: 0.9664 - val_loss: 0.6487 - val_accuracy: 0.8580\n",
            "Epoch 29/50\n",
            "219/219 [==============================] - 136s 621ms/step - loss: 0.1031 - accuracy: 0.9641 - val_loss: 0.4885 - val_accuracy: 0.8946\n",
            "Epoch 30/50\n",
            "219/219 [==============================] - 137s 626ms/step - loss: 0.0874 - accuracy: 0.9688 - val_loss: 0.6207 - val_accuracy: 0.8797\n",
            "Epoch 31/50\n",
            "219/219 [==============================] - 135s 618ms/step - loss: 0.1112 - accuracy: 0.9635 - val_loss: 0.9247 - val_accuracy: 0.7778\n",
            "Epoch 32/50\n",
            "219/219 [==============================] - 136s 620ms/step - loss: 0.1168 - accuracy: 0.9589 - val_loss: 1.5454 - val_accuracy: 0.7423\n",
            "Epoch 33/50\n",
            "219/219 [==============================] - 137s 624ms/step - loss: 0.0904 - accuracy: 0.9672 - val_loss: 0.7735 - val_accuracy: 0.8671\n",
            "Epoch 34/50\n",
            "219/219 [==============================] - 136s 620ms/step - loss: 0.0771 - accuracy: 0.9714 - val_loss: 0.5468 - val_accuracy: 0.8774\n",
            "Epoch 35/50\n",
            "219/219 [==============================] - 136s 619ms/step - loss: 0.0829 - accuracy: 0.9712 - val_loss: 0.5902 - val_accuracy: 0.8763\n",
            "Epoch 36/50\n",
            "219/219 [==============================] - 135s 618ms/step - loss: 0.0921 - accuracy: 0.9705 - val_loss: 0.9485 - val_accuracy: 0.8328\n",
            "Epoch 37/50\n",
            "219/219 [==============================] - 136s 622ms/step - loss: 0.0743 - accuracy: 0.9747 - val_loss: 0.5513 - val_accuracy: 0.9049\n",
            "Epoch 38/50\n",
            "219/219 [==============================] - 136s 620ms/step - loss: 0.0839 - accuracy: 0.9712 - val_loss: 0.5566 - val_accuracy: 0.8923\n",
            "Epoch 39/50\n",
            "219/219 [==============================] - 135s 618ms/step - loss: 0.0788 - accuracy: 0.9742 - val_loss: 0.6988 - val_accuracy: 0.8855\n",
            "Epoch 40/50\n",
            "219/219 [==============================] - 136s 619ms/step - loss: 0.0883 - accuracy: 0.9685 - val_loss: 0.5981 - val_accuracy: 0.8751\n",
            "Epoch 41/50\n",
            "219/219 [==============================] - 135s 618ms/step - loss: 0.0785 - accuracy: 0.9745 - val_loss: 0.8054 - val_accuracy: 0.8603\n",
            "Epoch 42/50\n",
            "219/219 [==============================] - 136s 620ms/step - loss: 0.0681 - accuracy: 0.9778 - val_loss: 0.6645 - val_accuracy: 0.8866\n",
            "Epoch 43/50\n",
            "219/219 [==============================] - 135s 619ms/step - loss: 0.0631 - accuracy: 0.9767 - val_loss: 0.7826 - val_accuracy: 0.8625\n",
            "Epoch 44/50\n",
            "219/219 [==============================] - 135s 618ms/step - loss: 0.0602 - accuracy: 0.9797 - val_loss: 0.6306 - val_accuracy: 0.8866\n",
            "Epoch 45/50\n",
            "219/219 [==============================] - 136s 620ms/step - loss: 0.0528 - accuracy: 0.9830 - val_loss: 0.5883 - val_accuracy: 0.8992\n",
            "Epoch 46/50\n",
            "219/219 [==============================] - 136s 622ms/step - loss: 0.0617 - accuracy: 0.9797 - val_loss: 1.9880 - val_accuracy: 0.7434\n",
            "Epoch 47/50\n",
            "219/219 [==============================] - 134s 613ms/step - loss: 0.0510 - accuracy: 0.9811 - val_loss: 0.6335 - val_accuracy: 0.8935\n",
            "Epoch 48/50\n",
            "219/219 [==============================] - 135s 617ms/step - loss: 0.0616 - accuracy: 0.9797 - val_loss: 0.7885 - val_accuracy: 0.8545\n",
            "Epoch 49/50\n",
            "219/219 [==============================] - 136s 621ms/step - loss: 0.0551 - accuracy: 0.9808 - val_loss: 0.9892 - val_accuracy: 0.8270\n",
            "Epoch 50/50\n",
            "219/219 [==============================] - 137s 623ms/step - loss: 0.0455 - accuracy: 0.9840 - val_loss: 0.6313 - val_accuracy: 0.9038\n"
          ]
        }
      ]
    },
    {
      "cell_type": "code",
      "source": [
        "model.evaluate(X_test, y_test)"
      ],
      "metadata": {
        "colab": {
          "base_uri": "https://localhost:8080/"
        },
        "id": "MON1AM353OS7",
        "outputId": "7fb2d20a-8cd3-4432-d3d4-d78b5ac13003"
      },
      "execution_count": null,
      "outputs": [
        {
          "output_type": "stream",
          "name": "stdout",
          "text": [
            "28/28 [==============================] - 4s 157ms/step - loss: 0.3685 - accuracy: 0.9175\n"
          ]
        },
        {
          "output_type": "execute_result",
          "data": {
            "text/plain": [
              "[0.36845651268959045, 0.9175257682800293]"
            ]
          },
          "metadata": {},
          "execution_count": 27
        }
      ]
    },
    {
      "cell_type": "code",
      "source": [
        "import matplotlib.pyplot as plt\n",
        "plt.plot(hist.history[\"loss\"], label=\"Train\")\n",
        "plt.plot(hist.history[\"val_loss\"], label = \"Validation\")\n",
        "plt.xlabel(\"Epoch\")\n",
        "plt.ylabel(\"Loss\")\n",
        "plt.legend()\n",
        "plt.show()"
      ],
      "metadata": {
        "colab": {
          "base_uri": "https://localhost:8080/",
          "height": 279
        },
        "id": "Ur1xAjuf3OPu",
        "outputId": "e774613a-f8ba-473f-a559-aaeeadc441ca"
      },
      "execution_count": null,
      "outputs": [
        {
          "output_type": "display_data",
          "data": {
            "text/plain": [
              "<Figure size 432x288 with 1 Axes>"
            ],
            "image/png": "[encoded data removed]"
          },
          "metadata": {
            "needs_background": "light"
          }
        }
      ]
    },
    {
      "cell_type": "code",
      "source": [
        "plt.plot(hist.history[\"accuracy\"], label=\"Train\")\n",
        "plt.plot(hist.history[\"val_accuracy\"], label = \"Validation\")\n",
        "plt.xlabel(\"Epoch\")\n",
        "plt.ylabel(\"Accuracy\")\n",
        "plt.legend()\n",
        "plt.show()"
      ],
      "metadata": {
        "colab": {
          "base_uri": "https://localhost:8080/",
          "height": 279
        },
        "id": "U354TVfN3OMG",
        "outputId": "4e730dc6-2a33-44ed-fbcf-83dbbd0cba83"
      },
      "execution_count": null,
      "outputs": [
        {
          "output_type": "display_data",
          "data": {
            "text/plain": [
              "<Figure size 432x288 with 1 Axes>"
            ],
            "image/png": "[encoded data removed]"
          },
          "metadata": {
            "needs_background": "light"
          }
        }
      ]
    },
    {
      "cell_type": "code",
      "source": [
        "model.save(\"trained_model_2.h5\")"
      ],
      "metadata": {
        "id": "ETaNv0ng3OI8"
      },
      "execution_count": null,
      "outputs": []
    },
    {
      "cell_type": "markdown",
      "metadata": {
        "id": "XM-WS6Hk0FQ6"
      },
      "source": [
        "------------------------------------------------------------------------------"
      ]
    },
    {
      "cell_type": "markdown",
      "source": [
        "### Degerlendirme"
      ],
      "metadata": {
        "id": "Hpgocv4rRkJZ"
      }
    },
    {
      "cell_type": "markdown",
      "source": [
        "En iyi Accuracy degeri 3. modelde elde edilmistir.\n",
        "\n",
        "En iyi loss degeri (En dusuk) 1. modelde elde edilmistir."
      ],
      "metadata": {
        "id": "xpSE1Mz_RH-N"
      }
    }
  ],
  "metadata": {
    "colab": {
      "provenance": [],
      "collapsed_sections": []
    },
    "kernelspec": {
      "display_name": "Python 3",
      "name": "python3"
    },
    "language_info": {
      "name": "python"
    }
  },
  "nbformat": 4,
  "nbformat_minor": 0
}